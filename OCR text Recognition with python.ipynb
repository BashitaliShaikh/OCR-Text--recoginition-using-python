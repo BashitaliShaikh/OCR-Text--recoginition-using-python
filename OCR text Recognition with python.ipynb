{
 "cells": [
  {
   "cell_type": "code",
   "execution_count": 1,
   "metadata": {
    "ExecuteTime": {
     "end_time": "2021-06-01T07:24:54.164649Z",
     "start_time": "2021-06-01T07:24:53.961620Z"
    }
   },
   "outputs": [],
   "source": [
    "import cv2\n",
    "import numpy as np\n",
    "import requests\n",
    "import io\n",
    "import json\n"
   ]
  },
  {
   "cell_type": "code",
   "execution_count": 2,
   "metadata": {
    "ExecuteTime": {
     "end_time": "2021-06-01T07:24:54.225667Z",
     "start_time": "2021-06-01T07:24:54.166649Z"
    }
   },
   "outputs": [],
   "source": [
    "img = cv2.imread(\"kungfu.jpg\")\n",
    "height, width, _ = img.shape\n",
    "\n"
   ]
  },
  {
   "cell_type": "code",
   "execution_count": 3,
   "metadata": {
    "ExecuteTime": {
     "end_time": "2021-06-01T07:24:54.241665Z",
     "start_time": "2021-06-01T07:24:54.227665Z"
    }
   },
   "outputs": [],
   "source": [
    "# Cutting image\n",
    "# roi = img[0: height, 400: width]\n",
    "roi = img\n"
   ]
  },
  {
   "cell_type": "code",
   "execution_count": 9,
   "metadata": {
    "ExecuteTime": {
     "end_time": "2021-06-01T07:25:56.831451Z",
     "start_time": "2021-06-01T07:25:53.695626Z"
    }
   },
   "outputs": [],
   "source": [
    "\n",
    "# Ocr\n",
    "url_api = \"https://api.ocr.space/parse/image\"\n",
    "_, compressedimage = cv2.imencode(\".jpg\", roi, [1, 90])\n",
    "file_bytes = io.BytesIO(compressedimage)\n",
    "\n",
    "result = requests.post(url_api,\n",
    "              files = {\"screenshot.jpg\": file_bytes},\n",
    "              data = {\"apikey\": \"c2187f5a0788957\",\n",
    "                      \"language\": \"cht\"})\n",
    "\n",
    "result = result.content.decode()\n",
    "result = json.loads(result)\n"
   ]
  },
  {
   "cell_type": "code",
   "execution_count": 10,
   "metadata": {
    "ExecuteTime": {
     "end_time": "2021-06-01T07:25:57.955207Z",
     "start_time": "2021-06-01T07:25:57.940215Z"
    }
   },
   "outputs": [
    {
     "name": "stdout",
     "output_type": "stream",
     "text": [
      "李小基本中国拳法\r\n",
      "基本中国拳法\r\n",
      "\n"
     ]
    }
   ],
   "source": [
    "\n",
    "parsed_results = result.get(\"ParsedResults\")[0]\n",
    "text_detected = parsed_results.get(\"ParsedText\")\n",
    "print(text_detected)\n",
    "\n"
   ]
  },
  {
   "cell_type": "code",
   "execution_count": 6,
   "metadata": {
    "ExecuteTime": {
     "end_time": "2021-06-01T07:25:10.870667Z",
     "start_time": "2021-06-01T07:24:57.721385Z"
    }
   },
   "outputs": [],
   "source": [
    "cv2.imshow(\"roi\", roi)\n",
    "cv2.imshow(\"Img\", img)\n",
    "cv2.waitKey(0)\n",
    "cv2.destroyAllWindows()"
   ]
  }
 ],
 "metadata": {
  "hide_input": false,
  "kernelspec": {
   "display_name": "Python 3",
   "language": "python",
   "name": "python3"
  },
  "language_info": {
   "codemirror_mode": {
    "name": "ipython",
    "version": 3
   },
   "file_extension": ".py",
   "mimetype": "text/x-python",
   "name": "python",
   "nbconvert_exporter": "python",
   "pygments_lexer": "ipython3",
   "version": "3.7.6"
  },
  "toc": {
   "base_numbering": 1,
   "nav_menu": {},
   "number_sections": true,
   "sideBar": true,
   "skip_h1_title": false,
   "title_cell": "Table of Contents",
   "title_sidebar": "Contents",
   "toc_cell": false,
   "toc_position": {},
   "toc_section_display": true,
   "toc_window_display": false
  },
  "varInspector": {
   "cols": {
    "lenName": 16,
    "lenType": 16,
    "lenVar": 40
   },
   "kernels_config": {
    "python": {
     "delete_cmd_postfix": "",
     "delete_cmd_prefix": "del ",
     "library": "var_list.py",
     "varRefreshCmd": "print(var_dic_list())"
    },
    "r": {
     "delete_cmd_postfix": ") ",
     "delete_cmd_prefix": "rm(",
     "library": "var_list.r",
     "varRefreshCmd": "cat(var_dic_list()) "
    }
   },
   "types_to_exclude": [
    "module",
    "function",
    "builtin_function_or_method",
    "instance",
    "_Feature"
   ],
   "window_display": false
  }
 },
 "nbformat": 4,
 "nbformat_minor": 4
}
